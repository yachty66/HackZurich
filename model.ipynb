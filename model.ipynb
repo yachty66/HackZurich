{
 "cells": [
  {
   "cell_type": "code",
   "execution_count": 7,
   "metadata": {},
   "outputs": [
    {
     "name": "stdout",
     "output_type": "stream",
     "text": [
      "{'id': 'cmpl-5rTmzdGD3kfpEbx88gB9IOPWveFbL', 'object': 'text_completion', 'created': 1663427577, 'model': 'text-davinci-002', 'choices': [{'text': ' Taking a bath or shower 2. Drinking chamomile tea 3. Reading a book', 'index': 0, 'logprobs': None, 'finish_reason': 'stop'}], 'usage': {'prompt_tokens': 78, 'completion_tokens': 18, 'total_tokens': 96}}\n"
     ]
    }
   ],
   "source": [
    "import requests\n",
    "import config \n",
    "\n",
    "headers = {\n",
    "    # Already added when you pass json= but not when you pass data=\n",
    "    # 'Content-Type': 'application/json',\n",
    "    'Authorization': config.key,\n",
    "}\n",
    "\n",
    "json_data = {\n",
    "    'model': 'text-davinci-002',\n",
    "    'prompt': (\n",
    "    \"They cannot sleep. They tried but it seems not possible. They described their day as the following: Very busy at work. It was quite stressful. \"\n",
    "    \"They said they are not able to sleep because of i have way to many thoughts in my head. \"\n",
    "    \"A medical professional will tell them that they can try the following three things right now to fall asleep quickly despite the things mentioned above: \"\n",
    "    \"1.\"\n",
    "),\n",
    "    'temperature': 0.7,\n",
    "    'max_tokens': 100,\n",
    "}\n",
    "\n",
    "response = requests.post('https://api.openai.com/v1/completions', headers=headers, json=json_data)\n",
    "print(response.json())\n",
    "# Note: json_data will not be serialized by requests\n",
    "# exactly as it was in the original request.\n",
    "#data = '{\"model\": \"text-davinci-002\", \"prompt\": \"Say this is a test\", \"temperature\": 0, \"max_tokens\": 6}'\n",
    "#response = requests.post('https://api.openai.com/v1/completions', headers=headers, data=data)"
   ]
  },
  {
   "cell_type": "code",
   "execution_count": null,
   "metadata": {},
   "outputs": [],
   "source": []
  }
 ],
 "metadata": {
  "kernelspec": {
   "display_name": "Python 3.10.6 64-bit",
   "language": "python",
   "name": "python3"
  },
  "language_info": {
   "codemirror_mode": {
    "name": "ipython",
    "version": 3
   },
   "file_extension": ".py",
   "mimetype": "text/x-python",
   "name": "python",
   "nbconvert_exporter": "python",
   "pygments_lexer": "ipython3",
   "version": "3.10.6"
  },
  "orig_nbformat": 4,
  "vscode": {
   "interpreter": {
    "hash": "aee8b7b246df8f9039afb4144a1f6fd8d2ca17a180786b69acc140d282b71a49"
   }
  }
 },
 "nbformat": 4,
 "nbformat_minor": 2
}
